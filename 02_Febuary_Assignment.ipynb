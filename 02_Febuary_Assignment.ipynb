{
 "cells": [
  {
   "cell_type": "markdown",
   "id": "1bd71f73-5019-4c1b-81f1-210e852ebcba",
   "metadata": {},
   "source": [
    "Q1. Explain with an example each when to use a for loop and a while loop."
   ]
  },
  {
   "cell_type": "markdown",
   "id": "17224960-d65b-46e5-b887-57606b346c4a",
   "metadata": {},
   "source": [
    "\n",
    "For Loop: \n",
    "Use a for loop when the number of iterations is known or when iterating over a sequence (e.g., list, range, or string).\n",
    "Example:"
   ]
  },
  {
   "cell_type": "markdown",
   "id": "167235e9-d384-4c01-98b7-7d0ad655380d",
   "metadata": {},
   "source": [
    "Example: "
   ]
  },
  {
   "cell_type": "code",
   "execution_count": 27,
   "id": "e91ec24e-d9dd-44b4-9b72-372b047cb52e",
   "metadata": {},
   "outputs": [
    {
     "name": "stdout",
     "output_type": "stream",
     "text": [
      "1\n",
      "2\n",
      "3\n",
      "4\n",
      "5\n"
     ]
    }
   ],
   "source": [
    "# Print numbers from 1 to 5 using a for loop\n",
    "for i in range(1, 6):\n",
    "    print(i)\n"
   ]
  },
  {
   "cell_type": "markdown",
   "id": "15a3e35d-5e09-4033-937f-60fa8edab7c2",
   "metadata": {},
   "source": [
    "while Loop : \n",
    "Use a while loop when the number of iterations depends on a condition being met, and the termination condition is not known beforehand.\n"
   ]
  },
  {
   "cell_type": "markdown",
   "id": "6d859e95-7ae8-4e3d-bd78-12f464894d89",
   "metadata": {},
   "source": [
    "EXAMPLE: "
   ]
  },
  {
   "cell_type": "code",
   "execution_count": 32,
   "id": "e797cdce-74c0-44c0-9888-782f5725cae0",
   "metadata": {},
   "outputs": [
    {
     "name": "stdout",
     "output_type": "stream",
     "text": [
      "1\n",
      "2\n",
      "3\n",
      "4\n",
      "5\n"
     ]
    }
   ],
   "source": [
    "# Print numbers from 1 to 5 using a while loop\n",
    "i = 1\n",
    "while i <= 5:\n",
    "    print(i)\n",
    "    i += 1\n"
   ]
  },
  {
   "cell_type": "code",
   "execution_count": null,
   "id": "1dd5496e-2dc7-4a4b-8f6c-c41a8c8e1e3b",
   "metadata": {},
   "outputs": [],
   "source": []
  },
  {
   "cell_type": "markdown",
   "id": "2596e23d-edbc-4c2d-aede-88f9ddd9ffd7",
   "metadata": {},
   "source": [
    "Q2. Sum and Product of the First 10 Natural Numbers Using for and while Loops"
   ]
  },
  {
   "cell_type": "markdown",
   "id": "d383ce69-e66b-45ea-a514-684ad92ef956",
   "metadata": {},
   "source": [
    "Using for Loop"
   ]
  },
  {
   "cell_type": "code",
   "execution_count": 39,
   "id": "b5295089-6f93-41cd-b5e8-51ba50e8f966",
   "metadata": {},
   "outputs": [
    {
     "name": "stdout",
     "output_type": "stream",
     "text": [
      "Sum: 55, Product: 3628800\n"
     ]
    }
   ],
   "source": [
    "# Sum and product using for loop\n",
    "sum_ = 0\n",
    "product = 1\n",
    "for i in range(1, 11):\n",
    "    sum_ += i\n",
    "    product *= i\n",
    "\n",
    "print(f\"Sum: {sum_}, Product: {product}\")\n"
   ]
  },
  {
   "cell_type": "markdown",
   "id": "a8d059bc-1c39-4f26-9d49-40b3229ed3b0",
   "metadata": {},
   "source": [
    "Using while Loop"
   ]
  },
  {
   "cell_type": "code",
   "execution_count": 42,
   "id": "0d70c6af-706a-43ba-8dc7-b74aa7030c62",
   "metadata": {},
   "outputs": [
    {
     "name": "stdout",
     "output_type": "stream",
     "text": [
      "Sum: 55, Product: 3628800\n"
     ]
    }
   ],
   "source": [
    "# Sum and product using while loop\n",
    "sum_ = 0\n",
    "product = 1\n",
    "i = 1\n",
    "while i <= 10:\n",
    "    sum_ += i\n",
    "    product *= i\n",
    "    i += 1\n",
    "\n",
    "print(f\"Sum: {sum_}, Product: {product}\")\n"
   ]
  },
  {
   "cell_type": "code",
   "execution_count": null,
   "id": "b7b9ef46-554c-40cd-a6f5-5d2379fa4de3",
   "metadata": {},
   "outputs": [],
   "source": []
  },
  {
   "cell_type": "raw",
   "id": "462c52b9-c1d5-4414-9f1f-b039938bbd68",
   "metadata": {},
   "source": [
    "Q3. Create a python program to compute the electricity bill for a household.\n",
    "                                                           \n",
    "The per-unit charges in rupees are as follows: \n",
    "For the first 100 units, the user will be charged Rs. 4.5 per unit, for the next 100 units, the user will be charged Rs. 6 per unit, \n",
    "and for the next 100 units, the user will be charged Rs. 10 per unit, \n",
    "After 300 units and above the user will be charged Rs. 20 per unit.\n",
    "\n",
    "    \n",
    "You are required to take the units of electricity consumed in a month from the user as input.\n",
    "Your program must pass this test case: when the unit of electricity consumed by the user in a month is 310, \n",
    "the total electricity bill should be 2250."
   ]
  },
  {
   "cell_type": "markdown",
   "id": "13f59398-43bb-4231-bd70-d24d45ebf72d",
   "metadata": {},
   "source": [
    "Compute Electricity Bill for a Household"
   ]
  },
  {
   "cell_type": "code",
   "execution_count": 49,
   "id": "d617a4b1-a447-4f41-bf01-5f70c6f08d4c",
   "metadata": {},
   "outputs": [
    {
     "name": "stdin",
     "output_type": "stream",
     "text": [
      "Enter the units of electricity consumed:  310\n"
     ]
    },
    {
     "name": "stdout",
     "output_type": "stream",
     "text": [
      "Total electricity bill: Rs. 2250.0\n"
     ]
    }
   ],
   "source": [
    "# Program to compute electricity bill\n",
    "units = int(input(\"Enter the units of electricity consumed: \"))\n",
    "bill = 0\n",
    "\n",
    "if units <= 100:\n",
    "    bill = units * 4.5\n",
    "elif units <= 200:\n",
    "    bill = 100 * 4.5 + (units - 100) * 6\n",
    "elif units <= 300:\n",
    "    bill = 100 * 4.5 + 100 * 6 + (units - 200) * 10\n",
    "else:\n",
    "    bill = 100 * 4.5 + 100 * 6 + 100 * 10 + (units - 300) * 20\n",
    "\n",
    "print(f\"Total electricity bill: Rs. {bill}\")\n"
   ]
  },
  {
   "cell_type": "code",
   "execution_count": null,
   "id": "3af26b28-4a84-4039-bb9b-4ca49a22e692",
   "metadata": {},
   "outputs": [],
   "source": []
  },
  {
   "cell_type": "raw",
   "id": "f1a86d14-146a-4d74-be44-85f59a2fc898",
   "metadata": {},
   "source": [
    "Q4. Create a list of numbers from 1 to 100. \n",
    "Use for loop and while loop to calculate the cube of each number \n",
    "and if the cube of that number is divisible by 4 or 5 then append that number in a list and print that list."
   ]
  },
  {
   "cell_type": "markdown",
   "id": "c605ea56-4366-473e-9559-66e5be84ee0b",
   "metadata": {},
   "source": [
    "Cube of Numbers Divisible by 4 or 5"
   ]
  },
  {
   "cell_type": "markdown",
   "id": "712c2e44-9ef8-4fae-8178-448956d89779",
   "metadata": {},
   "source": [
    "Using for Loop"
   ]
  },
  {
   "cell_type": "code",
   "execution_count": 53,
   "id": "ea834af7-2ccd-44de-98d3-5f79531dba4e",
   "metadata": {},
   "outputs": [
    {
     "name": "stdout",
     "output_type": "stream",
     "text": [
      "[2, 4, 5, 6, 8, 10, 12, 14, 15, 16, 18, 20, 22, 24, 25, 26, 28, 30, 32, 34, 35, 36, 38, 40, 42, 44, 45, 46, 48, 50, 52, 54, 55, 56, 58, 60, 62, 64, 65, 66, 68, 70, 72, 74, 75, 76, 78, 80, 82, 84, 85, 86, 88, 90, 92, 94, 95, 96, 98, 100]\n"
     ]
    }
   ],
   "source": [
    "# Using for loop\n",
    "result = []\n",
    "for i in range(1, 101):\n",
    "    cube = i ** 3\n",
    "    if cube % 4 == 0 or cube % 5 == 0:\n",
    "        result.append(i)\n",
    "\n",
    "print(result)\n"
   ]
  },
  {
   "cell_type": "markdown",
   "id": "6bc77c84-740d-40b5-a855-10ec5f8cb46d",
   "metadata": {},
   "source": [
    "Using while Loop"
   ]
  },
  {
   "cell_type": "code",
   "execution_count": 56,
   "id": "5700ec58-f065-48ab-a569-d8494862231a",
   "metadata": {},
   "outputs": [
    {
     "name": "stdout",
     "output_type": "stream",
     "text": [
      "[2, 4, 5, 6, 8, 10, 12, 14, 15, 16, 18, 20, 22, 24, 25, 26, 28, 30, 32, 34, 35, 36, 38, 40, 42, 44, 45, 46, 48, 50, 52, 54, 55, 56, 58, 60, 62, 64, 65, 66, 68, 70, 72, 74, 75, 76, 78, 80, 82, 84, 85, 86, 88, 90, 92, 94, 95, 96, 98, 100]\n"
     ]
    }
   ],
   "source": [
    "# Using while loop\n",
    "result = []\n",
    "i = 1\n",
    "while i <= 100:\n",
    "    cube = i ** 3\n",
    "    if cube % 4 == 0 or cube % 5 == 0:\n",
    "        result.append(i)\n",
    "    i += 1\n",
    "\n",
    "print(result)\n"
   ]
  },
  {
   "cell_type": "code",
   "execution_count": null,
   "id": "79e94eca-28fc-4350-86a9-a4a15ac21512",
   "metadata": {},
   "outputs": [],
   "source": []
  },
  {
   "cell_type": "markdown",
   "id": "ee60294a-9eaa-4d64-9925-6b79ac771562",
   "metadata": {},
   "source": [
    "Q5. Write a program to filter count vowels in the below-given string.\n"
   ]
  },
  {
   "cell_type": "markdown",
   "id": "4fe43177-2362-41d0-8276-c3a23ee53f0f",
   "metadata": {},
   "source": [
    "string = \"I want to become a data scientist\""
   ]
  },
  {
   "cell_type": "code",
   "execution_count": 61,
   "id": "d0610ac7-40d4-4693-96fc-33841bab1a68",
   "metadata": {},
   "outputs": [
    {
     "name": "stdout",
     "output_type": "stream",
     "text": [
      "Vowels in the string: ['I', 'a', 'o', 'e', 'o', 'e', 'a', 'a', 'a', 'i', 'e', 'i']\n",
      "Total number of vowels: 12\n"
     ]
    }
   ],
   "source": [
    "# Program to filter and count vowels in a string\n",
    "string = \"I want to become a data scientist\"\n",
    "vowels = \"aeiouAEIOU\"\n",
    "vowel_count = 0\n",
    "vowel_list = []\n",
    "\n",
    "for char in string:\n",
    "    if char in vowels:\n",
    "        vowel_count += 1\n",
    "        vowel_list.append(char)\n",
    "\n",
    "print(f\"Vowels in the string: {vowel_list}\")\n",
    "print(f\"Total number of vowels: {vowel_count}\")\n"
   ]
  },
  {
   "cell_type": "code",
   "execution_count": null,
   "id": "b9afb8e1-cb7f-4d39-9474-4fc105a81515",
   "metadata": {},
   "outputs": [],
   "source": []
  }
 ],
 "metadata": {
  "kernelspec": {
   "display_name": "Python 3 (ipykernel)",
   "language": "python",
   "name": "python3"
  },
  "language_info": {
   "codemirror_mode": {
    "name": "ipython",
    "version": 3
   },
   "file_extension": ".py",
   "mimetype": "text/x-python",
   "name": "python",
   "nbconvert_exporter": "python",
   "pygments_lexer": "ipython3",
   "version": "3.11.7"
  }
 },
 "nbformat": 4,
 "nbformat_minor": 5
}
